{
 "cells": [
  {
   "attachments": {},
   "cell_type": "markdown",
   "id": "decba432-7bfb-4387-8a54-27d596eafdba",
   "metadata": {},
   "source": [
    "<h4>Jerly Yuliana Gasca-Regresión logística</h4>"
   ]
  },
  {
   "cell_type": "markdown",
   "id": "3ee46d59-a35f-4cac-a40c-697479138407",
   "metadata": {},
   "source": [
    "<h3>Predicción de quien sobrevivió al naufragio del Titanic </h3>"
   ]
  },
  {
   "cell_type": "markdown",
   "id": "8bb3a4d0-70ce-456d-8fc0-7137a9bb2306",
   "metadata": {},
   "source": [
    "<h3>Pasos</h3>"
   ]
  },
  {
   "cell_type": "markdown",
   "id": "8aba1e90-c4ed-4ae2-8a0c-025317c0ff72",
   "metadata": {},
   "source": [
    "1. Realizar un análisis exploratorio de los datos para identificar\n",
    "relaciones entre variables, valores atípicos, tendencias, etc.\n",
    "2. Preprocesar los datos limpiándolos, tratando valores faltantes y\n",
    "transformándolos según sea necesario.\n",
    "3. Seleccionar las características más relevantes para entrenar el\n",
    "modelo utilizando selección de características.\n",
    "4. Dividir el dataset en Train y Test para evaluar correctamente el\n",
    "modelo.\n",
    "5. Entrenar el modelo configurando los diferentes\n",
    "hiperparámetros.\n",
    "6. Evaluar el desempeño del modelo en el conjunto de Test con\n",
    "métricas como precisión, recall, F1-score, etc.\n",
    "7. Realizar las diferentes gráficas que permitan visualizar los\n",
    "resultados del modelo.\n",
    "8. Interpretar, analizar y documentar los resultados obtenidos\n",
    "   \n",
    "• Cargar en GitHub el código del modelo diseñado\n",
    "https://github.com/\n"
   ]
  },
  {
   "cell_type": "markdown",
   "id": "7e8b2408-ad4c-4a54-87f3-2ab825b778a6",
   "metadata": {},
   "source": [
    "<h3>1. Realizar un análisis exploratorio de los datos para identificar\n",
    "relaciones entre variables, valores atípicos, tendencias, etc.</h3>"
   ]
  },
  {
   "cell_type": "code",
   "execution_count": 106,
   "id": "004a70a2-a2f1-4bd0-8c21-68f8c3db07c0",
   "metadata": {},
   "outputs": [],
   "source": [
    "#Cargar las librerias necesarias\n",
    "\n",
    "import pandas as pd # Manejo y análisis de estructuras de datos\n",
    "import numpy as np # Cálculo numérico y el análisis de datos\n",
    "import seaborn as sns # Creación gráficos estadísticos\n",
    "import matplotlib.pyplot as plt # Creación de gráficos en dos dimensiones\n",
    "from sklearn.preprocessing import LabelEncoder\n",
    "\n",
    "# librerías de para implementar modelos de ciencia de datos\n",
    "from sklearn import metrics\n",
    "from sklearn.model_selection import train_test_split\n",
    "from sklearn.linear_model import LogisticRegression\n",
    "from sklearn.metrics import classification_report, confusion_matrix, accuracy_score\n",
    "\n",
    "#Librería para evitar la advertencia de que el modelo tiene una pérdida de memoria en Windows \n",
    "import warnings\n",
    "warnings.filterwarnings('ignore')"
   ]
  },
  {
   "cell_type": "code",
   "execution_count": 108,
   "id": "6869fb92-746f-4e7a-84c6-f5fb08ac1c0b",
   "metadata": {},
   "outputs": [],
   "source": [
    "# lectura de datos en Python y lo cargamos en la variable Datos\n",
    "\n",
    "dfTitanic = pd.read_csv('D:/UNAD JERLY/SEMESTRE 6/ANALISIS DE DATOS/Tarea 5/Titanic-Dataset.csv')"
   ]
  },
  {
   "cell_type": "code",
   "execution_count": 110,
   "id": "87869c9a-7884-4992-8b1c-ff251e5d67d9",
   "metadata": {
    "scrolled": true
   },
   "outputs": [
    {
     "data": {
      "text/html": [
       "<div>\n",
       "<style scoped>\n",
       "    .dataframe tbody tr th:only-of-type {\n",
       "        vertical-align: middle;\n",
       "    }\n",
       "\n",
       "    .dataframe tbody tr th {\n",
       "        vertical-align: top;\n",
       "    }\n",
       "\n",
       "    .dataframe thead th {\n",
       "        text-align: right;\n",
       "    }\n",
       "</style>\n",
       "<table border=\"1\" class=\"dataframe\">\n",
       "  <thead>\n",
       "    <tr style=\"text-align: right;\">\n",
       "      <th></th>\n",
       "      <th>PassengerId</th>\n",
       "      <th>Survived</th>\n",
       "      <th>Pclass</th>\n",
       "      <th>Name</th>\n",
       "      <th>Sex</th>\n",
       "      <th>Age</th>\n",
       "      <th>SibSp</th>\n",
       "      <th>Parch</th>\n",
       "      <th>Ticket</th>\n",
       "      <th>Fare</th>\n",
       "      <th>Cabin</th>\n",
       "      <th>Embarked</th>\n",
       "    </tr>\n",
       "  </thead>\n",
       "  <tbody>\n",
       "    <tr>\n",
       "      <th>0</th>\n",
       "      <td>1</td>\n",
       "      <td>0</td>\n",
       "      <td>3</td>\n",
       "      <td>Braund, Mr. Owen Harris</td>\n",
       "      <td>male</td>\n",
       "      <td>22.0</td>\n",
       "      <td>1</td>\n",
       "      <td>0</td>\n",
       "      <td>A/5 21171</td>\n",
       "      <td>7.2500</td>\n",
       "      <td>NaN</td>\n",
       "      <td>S</td>\n",
       "    </tr>\n",
       "    <tr>\n",
       "      <th>1</th>\n",
       "      <td>2</td>\n",
       "      <td>1</td>\n",
       "      <td>1</td>\n",
       "      <td>Cumings, Mrs. John Bradley (Florence Briggs Th...</td>\n",
       "      <td>female</td>\n",
       "      <td>38.0</td>\n",
       "      <td>1</td>\n",
       "      <td>0</td>\n",
       "      <td>PC 17599</td>\n",
       "      <td>71.2833</td>\n",
       "      <td>C85</td>\n",
       "      <td>C</td>\n",
       "    </tr>\n",
       "    <tr>\n",
       "      <th>2</th>\n",
       "      <td>3</td>\n",
       "      <td>1</td>\n",
       "      <td>3</td>\n",
       "      <td>Heikkinen, Miss. Laina</td>\n",
       "      <td>female</td>\n",
       "      <td>26.0</td>\n",
       "      <td>0</td>\n",
       "      <td>0</td>\n",
       "      <td>STON/O2. 3101282</td>\n",
       "      <td>7.9250</td>\n",
       "      <td>NaN</td>\n",
       "      <td>S</td>\n",
       "    </tr>\n",
       "    <tr>\n",
       "      <th>3</th>\n",
       "      <td>4</td>\n",
       "      <td>1</td>\n",
       "      <td>1</td>\n",
       "      <td>Futrelle, Mrs. Jacques Heath (Lily May Peel)</td>\n",
       "      <td>female</td>\n",
       "      <td>35.0</td>\n",
       "      <td>1</td>\n",
       "      <td>0</td>\n",
       "      <td>113803</td>\n",
       "      <td>53.1000</td>\n",
       "      <td>C123</td>\n",
       "      <td>S</td>\n",
       "    </tr>\n",
       "    <tr>\n",
       "      <th>4</th>\n",
       "      <td>5</td>\n",
       "      <td>0</td>\n",
       "      <td>3</td>\n",
       "      <td>Allen, Mr. William Henry</td>\n",
       "      <td>male</td>\n",
       "      <td>35.0</td>\n",
       "      <td>0</td>\n",
       "      <td>0</td>\n",
       "      <td>373450</td>\n",
       "      <td>8.0500</td>\n",
       "      <td>NaN</td>\n",
       "      <td>S</td>\n",
       "    </tr>\n",
       "    <tr>\n",
       "      <th>5</th>\n",
       "      <td>6</td>\n",
       "      <td>0</td>\n",
       "      <td>3</td>\n",
       "      <td>Moran, Mr. James</td>\n",
       "      <td>male</td>\n",
       "      <td>NaN</td>\n",
       "      <td>0</td>\n",
       "      <td>0</td>\n",
       "      <td>330877</td>\n",
       "      <td>8.4583</td>\n",
       "      <td>NaN</td>\n",
       "      <td>Q</td>\n",
       "    </tr>\n",
       "    <tr>\n",
       "      <th>6</th>\n",
       "      <td>7</td>\n",
       "      <td>0</td>\n",
       "      <td>1</td>\n",
       "      <td>McCarthy, Mr. Timothy J</td>\n",
       "      <td>male</td>\n",
       "      <td>54.0</td>\n",
       "      <td>0</td>\n",
       "      <td>0</td>\n",
       "      <td>17463</td>\n",
       "      <td>51.8625</td>\n",
       "      <td>E46</td>\n",
       "      <td>S</td>\n",
       "    </tr>\n",
       "    <tr>\n",
       "      <th>7</th>\n",
       "      <td>8</td>\n",
       "      <td>0</td>\n",
       "      <td>3</td>\n",
       "      <td>Palsson, Master. Gosta Leonard</td>\n",
       "      <td>male</td>\n",
       "      <td>2.0</td>\n",
       "      <td>3</td>\n",
       "      <td>1</td>\n",
       "      <td>349909</td>\n",
       "      <td>21.0750</td>\n",
       "      <td>NaN</td>\n",
       "      <td>S</td>\n",
       "    </tr>\n",
       "    <tr>\n",
       "      <th>8</th>\n",
       "      <td>9</td>\n",
       "      <td>1</td>\n",
       "      <td>3</td>\n",
       "      <td>Johnson, Mrs. Oscar W (Elisabeth Vilhelmina Berg)</td>\n",
       "      <td>female</td>\n",
       "      <td>27.0</td>\n",
       "      <td>0</td>\n",
       "      <td>2</td>\n",
       "      <td>347742</td>\n",
       "      <td>11.1333</td>\n",
       "      <td>NaN</td>\n",
       "      <td>S</td>\n",
       "    </tr>\n",
       "    <tr>\n",
       "      <th>9</th>\n",
       "      <td>10</td>\n",
       "      <td>1</td>\n",
       "      <td>2</td>\n",
       "      <td>Nasser, Mrs. Nicholas (Adele Achem)</td>\n",
       "      <td>female</td>\n",
       "      <td>14.0</td>\n",
       "      <td>1</td>\n",
       "      <td>0</td>\n",
       "      <td>237736</td>\n",
       "      <td>30.0708</td>\n",
       "      <td>NaN</td>\n",
       "      <td>C</td>\n",
       "    </tr>\n",
       "    <tr>\n",
       "      <th>10</th>\n",
       "      <td>11</td>\n",
       "      <td>1</td>\n",
       "      <td>3</td>\n",
       "      <td>Sandstrom, Miss. Marguerite Rut</td>\n",
       "      <td>female</td>\n",
       "      <td>4.0</td>\n",
       "      <td>1</td>\n",
       "      <td>1</td>\n",
       "      <td>PP 9549</td>\n",
       "      <td>16.7000</td>\n",
       "      <td>G6</td>\n",
       "      <td>S</td>\n",
       "    </tr>\n",
       "    <tr>\n",
       "      <th>11</th>\n",
       "      <td>12</td>\n",
       "      <td>1</td>\n",
       "      <td>1</td>\n",
       "      <td>Bonnell, Miss. Elizabeth</td>\n",
       "      <td>female</td>\n",
       "      <td>58.0</td>\n",
       "      <td>0</td>\n",
       "      <td>0</td>\n",
       "      <td>113783</td>\n",
       "      <td>26.5500</td>\n",
       "      <td>C103</td>\n",
       "      <td>S</td>\n",
       "    </tr>\n",
       "    <tr>\n",
       "      <th>12</th>\n",
       "      <td>13</td>\n",
       "      <td>0</td>\n",
       "      <td>3</td>\n",
       "      <td>Saundercock, Mr. William Henry</td>\n",
       "      <td>male</td>\n",
       "      <td>20.0</td>\n",
       "      <td>0</td>\n",
       "      <td>0</td>\n",
       "      <td>A/5. 2151</td>\n",
       "      <td>8.0500</td>\n",
       "      <td>NaN</td>\n",
       "      <td>S</td>\n",
       "    </tr>\n",
       "    <tr>\n",
       "      <th>13</th>\n",
       "      <td>14</td>\n",
       "      <td>0</td>\n",
       "      <td>3</td>\n",
       "      <td>Andersson, Mr. Anders Johan</td>\n",
       "      <td>male</td>\n",
       "      <td>39.0</td>\n",
       "      <td>1</td>\n",
       "      <td>5</td>\n",
       "      <td>347082</td>\n",
       "      <td>31.2750</td>\n",
       "      <td>NaN</td>\n",
       "      <td>S</td>\n",
       "    </tr>\n",
       "  </tbody>\n",
       "</table>\n",
       "</div>"
      ],
      "text/plain": [
       "    PassengerId  Survived  Pclass  \\\n",
       "0             1         0       3   \n",
       "1             2         1       1   \n",
       "2             3         1       3   \n",
       "3             4         1       1   \n",
       "4             5         0       3   \n",
       "5             6         0       3   \n",
       "6             7         0       1   \n",
       "7             8         0       3   \n",
       "8             9         1       3   \n",
       "9            10         1       2   \n",
       "10           11         1       3   \n",
       "11           12         1       1   \n",
       "12           13         0       3   \n",
       "13           14         0       3   \n",
       "\n",
       "                                                 Name     Sex   Age  SibSp  \\\n",
       "0                             Braund, Mr. Owen Harris    male  22.0      1   \n",
       "1   Cumings, Mrs. John Bradley (Florence Briggs Th...  female  38.0      1   \n",
       "2                              Heikkinen, Miss. Laina  female  26.0      0   \n",
       "3        Futrelle, Mrs. Jacques Heath (Lily May Peel)  female  35.0      1   \n",
       "4                            Allen, Mr. William Henry    male  35.0      0   \n",
       "5                                    Moran, Mr. James    male   NaN      0   \n",
       "6                             McCarthy, Mr. Timothy J    male  54.0      0   \n",
       "7                      Palsson, Master. Gosta Leonard    male   2.0      3   \n",
       "8   Johnson, Mrs. Oscar W (Elisabeth Vilhelmina Berg)  female  27.0      0   \n",
       "9                 Nasser, Mrs. Nicholas (Adele Achem)  female  14.0      1   \n",
       "10                    Sandstrom, Miss. Marguerite Rut  female   4.0      1   \n",
       "11                           Bonnell, Miss. Elizabeth  female  58.0      0   \n",
       "12                     Saundercock, Mr. William Henry    male  20.0      0   \n",
       "13                        Andersson, Mr. Anders Johan    male  39.0      1   \n",
       "\n",
       "    Parch            Ticket     Fare Cabin Embarked  \n",
       "0       0         A/5 21171   7.2500   NaN        S  \n",
       "1       0          PC 17599  71.2833   C85        C  \n",
       "2       0  STON/O2. 3101282   7.9250   NaN        S  \n",
       "3       0            113803  53.1000  C123        S  \n",
       "4       0            373450   8.0500   NaN        S  \n",
       "5       0            330877   8.4583   NaN        Q  \n",
       "6       0             17463  51.8625   E46        S  \n",
       "7       1            349909  21.0750   NaN        S  \n",
       "8       2            347742  11.1333   NaN        S  \n",
       "9       0            237736  30.0708   NaN        C  \n",
       "10      1           PP 9549  16.7000    G6        S  \n",
       "11      0            113783  26.5500  C103        S  \n",
       "12      0         A/5. 2151   8.0500   NaN        S  \n",
       "13      5            347082  31.2750   NaN        S  "
      ]
     },
     "execution_count": 110,
     "metadata": {},
     "output_type": "execute_result"
    }
   ],
   "source": [
    "# Realizamos lectura de los Datos para el análisis exploratorio\n",
    "\n",
    "dfTitanic.head(14)"
   ]
  },
  {
   "cell_type": "markdown",
   "id": "b2c268c1-e345-4f6b-88df-dfbb28294820",
   "metadata": {},
   "source": [
    "<h3>Descripcion de las variables</h3>"
   ]
  },
  {
   "attachments": {},
   "cell_type": "markdown",
   "id": "d2b475f2-5058-43a7-9a6a-234ebf448f2a",
   "metadata": {},
   "source": [
    "\n",
    "\n",
    "    Passenger Id: Identificación del pasajero.\n",
    "    Survived: Sobrevivió (1 = Sí, 0 = No).\n",
    "    Pclass: Clase del boleto del pasajero (1= 1ª clase, 2= 2ª clase, 3= 3ª clase).\n",
    "    Name: Nombre del pasajero.\n",
    "    Sex: Sexo del pasajero.\n",
    "    Age: Edad del pasajero.\n",
    "    SibSp: Número de hermanos/cónyuges a bordo.\n",
    "    Parch: Número de padres/hijos a bordo.\n",
    "    Ticket: Número de ticket.\n",
    "    Fare: Tarifa (costo del boleto).\n",
    "    Cabin: Número de cabina del pasajero.\n",
    "    Embarked: Puerto de embarque (C = Cherburgo, Q = Queenstown, S = Southampton).\n",
    "\n"
   ]
  },
  {
   "cell_type": "code",
   "execution_count": 114,
   "id": "f498811a-87d6-4ac5-8307-419a9f6a930d",
   "metadata": {},
   "outputs": [
    {
     "name": "stdout",
     "output_type": "stream",
     "text": [
      "<class 'pandas.core.frame.DataFrame'>\n",
      "RangeIndex: 891 entries, 0 to 890\n",
      "Data columns (total 12 columns):\n",
      " #   Column       Non-Null Count  Dtype  \n",
      "---  ------       --------------  -----  \n",
      " 0   PassengerId  891 non-null    int64  \n",
      " 1   Survived     891 non-null    int64  \n",
      " 2   Pclass       891 non-null    int64  \n",
      " 3   Name         891 non-null    object \n",
      " 4   Sex          891 non-null    object \n",
      " 5   Age          714 non-null    float64\n",
      " 6   SibSp        891 non-null    int64  \n",
      " 7   Parch        891 non-null    int64  \n",
      " 8   Ticket       891 non-null    object \n",
      " 9   Fare         891 non-null    float64\n",
      " 10  Cabin        204 non-null    object \n",
      " 11  Embarked     889 non-null    object \n",
      "dtypes: float64(2), int64(5), object(5)\n",
      "memory usage: 83.7+ KB\n",
      "None\n",
      "       PassengerId    Survived      Pclass         Age       SibSp  \\\n",
      "count   891.000000  891.000000  891.000000  714.000000  891.000000   \n",
      "mean    446.000000    0.383838    2.308642   29.699118    0.523008   \n",
      "std     257.353842    0.486592    0.836071   14.526497    1.102743   \n",
      "min       1.000000    0.000000    1.000000    0.420000    0.000000   \n",
      "25%     223.500000    0.000000    2.000000   20.125000    0.000000   \n",
      "50%     446.000000    0.000000    3.000000   28.000000    0.000000   \n",
      "75%     668.500000    1.000000    3.000000   38.000000    1.000000   \n",
      "max     891.000000    1.000000    3.000000   80.000000    8.000000   \n",
      "\n",
      "            Parch        Fare  \n",
      "count  891.000000  891.000000  \n",
      "mean     0.381594   32.204208  \n",
      "std      0.806057   49.693429  \n",
      "min      0.000000    0.000000  \n",
      "25%      0.000000    7.910400  \n",
      "50%      0.000000   14.454200  \n",
      "75%      0.000000   31.000000  \n",
      "max      6.000000  512.329200  \n"
     ]
    }
   ],
   "source": [
    "# Ver información general (tipos de datos, valores nulos)\n",
    "print(dfTitanic.info())\n",
    "\n",
    "# Resumen estadístico y variables numericas\n",
    "print(dfTitanic.describe())"
   ]
  },
  {
   "cell_type": "code",
   "execution_count": 116,
   "id": "28409c10-7c4d-4dce-b4d0-8409ebe86237",
   "metadata": {},
   "outputs": [
    {
     "data": {
      "image/png": "[encoded data removed]",
      "text/plain": [
       "<Figure size 1000x600 with 4 Axes>"
      ]
     },
     "metadata": {},
     "output_type": "display_data"
    }
   ],
   "source": [
    "# Graficamos los boxplots para identificar los valores atípicos\n",
    "# Lista de columnas numéricas para las que queremos visualizar los outliers\n",
    "numerical_columns = ['Age', 'SibSp', 'Parch', 'Fare']\n",
    "\n",
    "# Creación de un gráfico de caja para cada variable numérica\n",
    "plt.figure(figsize=(10, 6))\n",
    "\n",
    "# Crear un gráfico de caja para cada columna\n",
    "for i, col in enumerate(numerical_columns, 1):\n",
    "    plt.subplot(2, 2, i)  # Organiza los gráficos en una cuadrícula 2x2\n",
    "    sns.boxplot(x=dfTitanic[col])  # Crear el boxplot para la columna\n",
    "    plt.title(f'Boxplot de {col}')  # Título para cada gráfico\n",
    "\n",
    "plt.tight_layout()  # Ajustar los gráficos para que no se solapen\n",
    "plt.show()"
   ]
  },
  {
   "cell_type": "code",
   "execution_count": 117,
   "id": "799b9c97-3127-4be8-ab4f-a813e1457209",
   "metadata": {},
   "outputs": [
    {
     "data": {
      "image/png": "[encoded data removed]",
      "text/plain": [
       "<Figure size 1400x1000 with 4 Axes>"
      ]
     },
     "metadata": {},
     "output_type": "display_data"
    }
   ],
   "source": [
    "# Asumiendo que 'dfTit' ya está definido observamos relaciones y tendencias\n",
    "# Lista de datos para las gráficas\n",
    "data_survived = dfTitanic [['Survived']].astype(str)\n",
    "data_sex = dfTitanic [['Survived', 'Sex']].astype(str)\n",
    "data_pclass = dfTitanic [['Survived', 'Pclass']].astype(str)\n",
    "data_embarked = dfTitanic [['Survived', 'Embarked']].dropna().astype(str)\n",
    "\n",
    "\n",
    "# Crear una figura con subgráficas (2 filas, 2 columnas)\n",
    "fig, axes = plt.subplots(2, 2, figsize=(14, 10))\n",
    "\n",
    "# Gráfico 1: Cantidad de sobrevivientes\n",
    "sns.countplot(x='Survived', data=data_survived.dropna(), ax=axes[0, 0]).set_title(\"Cantidad de sobrevivientes\")\n",
    "\n",
    "# Gráfico 2: Sobrevivientes por Género\n",
    "sns.countplot(x='Survived', hue='Sex', data=data_sex.dropna(), ax=axes[0, 1]).set_title(\"Sobrevivientes por Género\")\n",
    "\n",
    "# Gráfico 3: Sobrevivientes por Clase\n",
    "sns.countplot(x='Survived', hue='Pclass', data=data_pclass.dropna(), ax=axes[1, 0]).set_title(\"Sobrevivientes por Clase\")\n",
    "\n",
    "# Gráfico 4: Sobrevivientes por Embarcaciones\n",
    "sns.countplot(x='Survived', hue='Embarked', data=data_embarked, ax=axes[1, 1]).set_title(\"Sobrevivientes por Embarcaciones\")\n",
    "\n",
    "# Ajustar el diseño para que no se sobrepongan los títulos y las etiquetas\n",
    "plt.tight_layout()\n",
    "\n",
    "# Mostrar los gráficos\n",
    "plt.show()"
   ]
  },
  {
   "cell_type": "markdown",
   "id": "045dce31-a3c0-4c96-8c9d-b3d8854fe8e6",
   "metadata": {},
   "source": [
    "<h5>1. Se observa que la categoria 0 probablemente no sobrevivió, tiene una frecuencia mucho mayor que la categoria 1 que propablemente sobrevivió.\n",
    "</h5><h5>2. Se observa que de entre las 3 clases disponibles en el Titanic, la que más sobrevivientes tuvo fue la clase 1, mientras que la que más muertos presentó fue la clase 3.</h5>\n",
    "<h5>3. Se observa que de los supervivientes, la mayoría fueron del sexo femenino. Por otro lado, fue el sexo masculino quien menos sobrevivió.\n",
    "</h5>\n",
    "<h5>4. Se observa que la embarcación con un mayor índice de supervivientes y no supervivientes fue la S, mientras que la Q fue la embarcación con un menor índice para ambos escenarios.</h5>\n"
   ]
  },
  {
   "cell_type": "markdown",
   "id": "67964e87-fc9d-4a7c-ad33-45b25f7d0fd0",
   "metadata": {},
   "source": [
    "<H3>2. Preprocesar los datos limpiándolos, tratando valores faltantes y\n",
    "transformándolos según sea necesario.</H3>"
   ]
  },
  {
   "cell_type": "code",
   "execution_count": 122,
   "id": "06ed733b-62f6-4597-be91-654e32f55af7",
   "metadata": {},
   "outputs": [
    {
     "name": "stdout",
     "output_type": "stream",
     "text": [
      "Index(['PassengerId', 'Survived', 'Pclass', 'Name', 'Sex', 'Age', 'SibSp',\n",
      "       'Parch', 'Ticket', 'Fare', 'Cabin', 'Embarked'],\n",
      "      dtype='object')\n"
     ]
    }
   ],
   "source": [
    "#caracteriticas\n",
    "print(dfTitanic.columns)"
   ]
  },
  {
   "cell_type": "code",
   "execution_count": 124,
   "id": "efa5942d-a017-4150-874d-4a2a8d02be6a",
   "metadata": {},
   "outputs": [
    {
     "name": "stdout",
     "output_type": "stream",
     "text": [
      "PassengerId      0\n",
      "Survived         0\n",
      "Pclass           0\n",
      "Name             0\n",
      "Sex              0\n",
      "Age            177\n",
      "SibSp            0\n",
      "Parch            0\n",
      "Ticket           0\n",
      "Fare             0\n",
      "Cabin          687\n",
      "Embarked         2\n",
      "dtype: int64\n"
     ]
    }
   ],
   "source": [
    "# Identificar valores faltantes\n",
    "valores_faltantes = dfTitanic.isnull().sum()\n",
    "\n",
    "# Mostrar los valores faltantes por columna\n",
    "print(valores_faltantes)"
   ]
  },
  {
   "cell_type": "markdown",
   "id": "4b876c56-c307-4760-9627-cba4ae38e1e6",
   "metadata": {},
   "source": [
    "<h4>Revisión de datos faltantes</h4>"
   ]
  },
  {
   "cell_type": "code",
   "execution_count": 127,
   "id": "43cc7f65-6f98-4731-afc3-37df18664620",
   "metadata": {},
   "outputs": [
    {
     "name": "stdout",
     "output_type": "stream",
     "text": [
      "Cantidad de Registros con cero en Edad:  0\n",
      "Cantidad de Registros nulos en Edad:  177\n",
      "Cantidad de Registros con cero en Tarifa de pasajero:  15\n"
     ]
    }
   ],
   "source": [
    "#Revisión de datos faltantes\n",
    "print(\"Cantidad de Registros con cero en Edad: \",dfTitanic['Age'].isin([0]).sum())\n",
    "print(\"Cantidad de Registros nulos en Edad: \",dfTitanic['Age'].isna().sum())\n",
    "print(\"Cantidad de Registros con cero en Tarifa de pasajero: \",dfTitanic['Fare'].isin([0]).sum())"
   ]
  },
  {
   "cell_type": "code",
   "execution_count": 129,
   "id": "76ca3044-5529-4c00-8da2-a6e455a41586",
   "metadata": {},
   "outputs": [],
   "source": [
    "# Remplazar datos faltantes con la mediana\n",
    "dfTitanic['Fare']=dfTitanic['Fare'].replace(0,dfTitanic['Fare'].mean())\n",
    "\n",
    "#Cabina - Reemplazamos valor vacío con el valor de la casilla anterior y luego la posterior\n",
    "dfTitanic['Cabin'] = dfTitanic['Cabin'].mask(dfTitanic['Cabin']=='nan', None).ffill()\n",
    "dfTitanic['Cabin'] = dfTitanic['Cabin'].mask(dfTitanic['Cabin']=='nan', None).bfill()\n",
    "\n",
    "#Embarcación - Reemplazamos valor vacío con el valor de la casilla anterior\n",
    "dfTitanic['Embarked'] = dfTitanic['Embarked'].mask(dfTitanic['Embarked']=='nan', None).ffill()"
   ]
  },
  {
   "cell_type": "code",
   "execution_count": 131,
   "id": "f25f0d40-092a-45c2-9fb6-1c40588bb16b",
   "metadata": {},
   "outputs": [
    {
     "name": "stdout",
     "output_type": "stream",
     "text": [
      "Cantidad de Registros con cero en tarifa de pasajero:  0\n"
     ]
    }
   ],
   "source": [
    "#Revisión nuevamente de datos faltantes\n",
    "print(\"Cantidad de Registros con cero en tarifa de pasajero: \",dfTitanic['Fare'].isin([0]).sum())"
   ]
  },
  {
   "cell_type": "code",
   "execution_count": 133,
   "id": "4ccf79b8-592d-4e85-abe7-b3c5ef6d064e",
   "metadata": {},
   "outputs": [],
   "source": [
    "dfTitanic = dfTitanic.dropna(subset=['Age'])"
   ]
  },
  {
   "cell_type": "code",
   "execution_count": 135,
   "id": "2f41a1b2-3dee-4f12-ab47-e8ac0426e2e7",
   "metadata": {},
   "outputs": [
    {
     "name": "stdout",
     "output_type": "stream",
     "text": [
      "Cantidad de Registros nulos en Edad:  0\n"
     ]
    }
   ],
   "source": [
    "print(\"Cantidad de Registros nulos en Edad: \",dfTitanic['Age'].isna().sum())"
   ]
  },
  {
   "cell_type": "markdown",
   "id": "af7b64ee-a9ae-45f2-92b3-28aa7684a591",
   "metadata": {},
   "source": [
    "<h4>Conteo de Datos Atípico</h4>"
   ]
  },
  {
   "cell_type": "code",
   "execution_count": 138,
   "id": "c8eac94a-2653-43ad-b2d9-da119d4af4b0",
   "metadata": {},
   "outputs": [
    {
     "name": "stdout",
     "output_type": "stream",
     "text": [
      "El total de datos atípicos es 35\n"
     ]
    }
   ],
   "source": [
    "#Conteo de Datos Atípico\n",
    "nivel_minimo=0\n",
    "nivel_maximo=2\n",
    "Total_Atipicos=((dfTitanic['SibSp']<nivel_minimo)|(dfTitanic['SibSp']>nivel_maximo)).sum()\n",
    "print(\"El total de datos atípicos es {}\".format(Total_Atipicos))"
   ]
  },
  {
   "cell_type": "code",
   "execution_count": 140,
   "id": "e7b15aaf-d8ed-48c6-ae2b-0c977afd606e",
   "metadata": {},
   "outputs": [],
   "source": [
    "dfTitanic=dfTitanic[(dfTitanic['SibSp']<nivel_maximo)&(dfTitanic['SibSp']>nivel_minimo)]"
   ]
  },
  {
   "cell_type": "code",
   "execution_count": 142,
   "id": "08a65d41-6525-4574-a4fb-976dbaa70427",
   "metadata": {},
   "outputs": [
    {
     "name": "stdout",
     "output_type": "stream",
     "text": [
      "El total de datos atípicos es 0\n"
     ]
    }
   ],
   "source": [
    "Total_Atipicos=((dfTitanic['SibSp']<nivel_minimo)|(dfTitanic['SibSp']>nivel_maximo)).sum()\n",
    "print(\"El total de datos atípicos es {}\".format(Total_Atipicos))"
   ]
  },
  {
   "cell_type": "markdown",
   "id": "81a4d178-a2be-4ab2-a76c-efd63b274a79",
   "metadata": {},
   "source": [
    "<h4>Transformación de Datos</h4>"
   ]
  },
  {
   "cell_type": "code",
   "execution_count": 145,
   "id": "bc915499-ffe6-488b-bf3a-80c03eebb80b",
   "metadata": {},
   "outputs": [
    {
     "data": {
      "text/plain": [
       "Sex\n",
       "1    93\n",
       "0    90\n",
       "Name: count, dtype: int64"
      ]
     },
     "execution_count": 145,
     "metadata": {},
     "output_type": "execute_result"
    }
   ],
   "source": [
    "#Transformamos Columnas que puedan clasificarse, en este caso, género y embarcación\n",
    "dfTitanic.replace({'Sex': {'female': 0, 'male': 1}}, inplace=True)\n",
    "dfTitanic['Sex'].value_counts()"
   ]
  },
  {
   "cell_type": "code",
   "execution_count": 147,
   "id": "12058603-88ba-449b-be00-b585b711155a",
   "metadata": {},
   "outputs": [
    {
     "data": {
      "text/plain": [
       "Embarked\n",
       "1    135\n",
       "0     45\n",
       "2      3\n",
       "Name: count, dtype: int64"
      ]
     },
     "execution_count": 147,
     "metadata": {},
     "output_type": "execute_result"
    }
   ],
   "source": [
    "dfTitanic.replace({'Embarked': {'C': 0, 'S': 1, 'Q': 2}}, inplace=True)\n",
    "dfTitanic['Embarked'].value_counts()"
   ]
  },
  {
   "cell_type": "code",
   "execution_count": 149,
   "id": "4e08a93e-482d-41ec-8bce-eafd8bfe259f",
   "metadata": {},
   "outputs": [
    {
     "data": {
      "text/html": [
       "<div>\n",
       "<style scoped>\n",
       "    .dataframe tbody tr th:only-of-type {\n",
       "        vertical-align: middle;\n",
       "    }\n",
       "\n",
       "    .dataframe tbody tr th {\n",
       "        vertical-align: top;\n",
       "    }\n",
       "\n",
       "    .dataframe thead th {\n",
       "        text-align: right;\n",
       "    }\n",
       "</style>\n",
       "<table border=\"1\" class=\"dataframe\">\n",
       "  <thead>\n",
       "    <tr style=\"text-align: right;\">\n",
       "      <th></th>\n",
       "      <th>PassengerId</th>\n",
       "      <th>Survived</th>\n",
       "      <th>Pclass</th>\n",
       "      <th>Name</th>\n",
       "      <th>Sex</th>\n",
       "      <th>Age</th>\n",
       "      <th>SibSp</th>\n",
       "      <th>Parch</th>\n",
       "      <th>Ticket</th>\n",
       "      <th>Fare</th>\n",
       "      <th>Cabin</th>\n",
       "      <th>Embarked</th>\n",
       "    </tr>\n",
       "  </thead>\n",
       "  <tbody>\n",
       "    <tr>\n",
       "      <th>0</th>\n",
       "      <td>1</td>\n",
       "      <td>0</td>\n",
       "      <td>3</td>\n",
       "      <td>Braund, Mr. Owen Harris</td>\n",
       "      <td>1</td>\n",
       "      <td>22.0</td>\n",
       "      <td>1</td>\n",
       "      <td>0</td>\n",
       "      <td>A/5 21171</td>\n",
       "      <td>7.2500</td>\n",
       "      <td>C85</td>\n",
       "      <td>1</td>\n",
       "    </tr>\n",
       "    <tr>\n",
       "      <th>1</th>\n",
       "      <td>2</td>\n",
       "      <td>1</td>\n",
       "      <td>1</td>\n",
       "      <td>Cumings, Mrs. John Bradley (Florence Briggs Th...</td>\n",
       "      <td>0</td>\n",
       "      <td>38.0</td>\n",
       "      <td>1</td>\n",
       "      <td>0</td>\n",
       "      <td>PC 17599</td>\n",
       "      <td>71.2833</td>\n",
       "      <td>C85</td>\n",
       "      <td>0</td>\n",
       "    </tr>\n",
       "    <tr>\n",
       "      <th>3</th>\n",
       "      <td>4</td>\n",
       "      <td>1</td>\n",
       "      <td>1</td>\n",
       "      <td>Futrelle, Mrs. Jacques Heath (Lily May Peel)</td>\n",
       "      <td>0</td>\n",
       "      <td>35.0</td>\n",
       "      <td>1</td>\n",
       "      <td>0</td>\n",
       "      <td>113803</td>\n",
       "      <td>53.1000</td>\n",
       "      <td>C123</td>\n",
       "      <td>1</td>\n",
       "    </tr>\n",
       "    <tr>\n",
       "      <th>9</th>\n",
       "      <td>10</td>\n",
       "      <td>1</td>\n",
       "      <td>2</td>\n",
       "      <td>Nasser, Mrs. Nicholas (Adele Achem)</td>\n",
       "      <td>0</td>\n",
       "      <td>14.0</td>\n",
       "      <td>1</td>\n",
       "      <td>0</td>\n",
       "      <td>237736</td>\n",
       "      <td>30.0708</td>\n",
       "      <td>E46</td>\n",
       "      <td>0</td>\n",
       "    </tr>\n",
       "    <tr>\n",
       "      <th>10</th>\n",
       "      <td>11</td>\n",
       "      <td>1</td>\n",
       "      <td>3</td>\n",
       "      <td>Sandstrom, Miss. Marguerite Rut</td>\n",
       "      <td>0</td>\n",
       "      <td>4.0</td>\n",
       "      <td>1</td>\n",
       "      <td>1</td>\n",
       "      <td>PP 9549</td>\n",
       "      <td>16.7000</td>\n",
       "      <td>G6</td>\n",
       "      <td>1</td>\n",
       "    </tr>\n",
       "  </tbody>\n",
       "</table>\n",
       "</div>"
      ],
      "text/plain": [
       "    PassengerId  Survived  Pclass  \\\n",
       "0             1         0       3   \n",
       "1             2         1       1   \n",
       "3             4         1       1   \n",
       "9            10         1       2   \n",
       "10           11         1       3   \n",
       "\n",
       "                                                 Name  Sex   Age  SibSp  \\\n",
       "0                             Braund, Mr. Owen Harris    1  22.0      1   \n",
       "1   Cumings, Mrs. John Bradley (Florence Briggs Th...    0  38.0      1   \n",
       "3        Futrelle, Mrs. Jacques Heath (Lily May Peel)    0  35.0      1   \n",
       "9                 Nasser, Mrs. Nicholas (Adele Achem)    0  14.0      1   \n",
       "10                    Sandstrom, Miss. Marguerite Rut    0   4.0      1   \n",
       "\n",
       "    Parch     Ticket     Fare Cabin  Embarked  \n",
       "0       0  A/5 21171   7.2500   C85         1  \n",
       "1       0   PC 17599  71.2833   C85         0  \n",
       "3       0     113803  53.1000  C123         1  \n",
       "9       0     237736  30.0708   E46         0  \n",
       "10      1    PP 9549  16.7000    G6         1  "
      ]
     },
     "execution_count": 149,
     "metadata": {},
     "output_type": "execute_result"
    }
   ],
   "source": [
    "#revision del dataset\n",
    "dfTitanic.head(5)"
   ]
  },
  {
   "cell_type": "markdown",
   "id": "2dbe55b7-c396-4d01-8e34-770b895b3e2c",
   "metadata": {},
   "source": [
    "<h3>3. Seleccionar las características más relevantes para entrenar el\n",
    "modelo utilizando selección de características</h3>"
   ]
  },
  {
   "cell_type": "markdown",
   "id": "08c0ef74-a2bd-49d4-903f-18b28ffc3eb4",
   "metadata": {},
   "source": [
    "<h4>Caracteriticas de interes:</h4>"
   ]
  },
  {
   "cell_type": "markdown",
   "id": "32720ffa-7527-4446-a5ea-67862bb4d276",
   "metadata": {},
   "source": [
    "<h5>\n",
    "    Survived: Si la persona sobrevivió o no (0 = no sobrevivió al naufragio, 1 = sí sobrevivió al naufragio)\n",
    "    La columna Survived será la variable objetivo (dependiente) y las demás columnas se pueden utilizar como variables predictoras (independientes).\n",
    "</h5>"
   ]
  },
  {
   "cell_type": "code",
   "execution_count": 154,
   "id": "7aab2c17-79d2-4bbf-ad94-dbd9c3486d53",
   "metadata": {},
   "outputs": [
    {
     "data": {
      "text/plain": [
       "Survived\n",
       "1    97\n",
       "0    86\n",
       "Name: count, dtype: int64"
      ]
     },
     "execution_count": 154,
     "metadata": {},
     "output_type": "execute_result"
    }
   ],
   "source": [
    "dfTitanic['Survived'].value_counts()"
   ]
  },
  {
   "cell_type": "code",
   "execution_count": 156,
   "id": "d318c159-fa6b-4b42-ac33-78247d66f10d",
   "metadata": {},
   "outputs": [
    {
     "data": {
      "text/html": [
       "<div>\n",
       "<style scoped>\n",
       "    .dataframe tbody tr th:only-of-type {\n",
       "        vertical-align: middle;\n",
       "    }\n",
       "\n",
       "    .dataframe tbody tr th {\n",
       "        vertical-align: top;\n",
       "    }\n",
       "\n",
       "    .dataframe thead th {\n",
       "        text-align: right;\n",
       "    }\n",
       "</style>\n",
       "<table border=\"1\" class=\"dataframe\">\n",
       "  <thead>\n",
       "    <tr style=\"text-align: right;\">\n",
       "      <th></th>\n",
       "      <th>Survived</th>\n",
       "    </tr>\n",
       "  </thead>\n",
       "  <tbody>\n",
       "    <tr>\n",
       "      <th>0</th>\n",
       "      <td>0</td>\n",
       "    </tr>\n",
       "    <tr>\n",
       "      <th>1</th>\n",
       "      <td>1</td>\n",
       "    </tr>\n",
       "    <tr>\n",
       "      <th>3</th>\n",
       "      <td>1</td>\n",
       "    </tr>\n",
       "    <tr>\n",
       "      <th>9</th>\n",
       "      <td>1</td>\n",
       "    </tr>\n",
       "    <tr>\n",
       "      <th>10</th>\n",
       "      <td>1</td>\n",
       "    </tr>\n",
       "    <tr>\n",
       "      <th>13</th>\n",
       "      <td>0</td>\n",
       "    </tr>\n",
       "    <tr>\n",
       "      <th>18</th>\n",
       "      <td>0</td>\n",
       "    </tr>\n",
       "    <tr>\n",
       "      <th>25</th>\n",
       "      <td>1</td>\n",
       "    </tr>\n",
       "    <tr>\n",
       "      <th>34</th>\n",
       "      <td>0</td>\n",
       "    </tr>\n",
       "    <tr>\n",
       "      <th>35</th>\n",
       "      <td>0</td>\n",
       "    </tr>\n",
       "    <tr>\n",
       "      <th>39</th>\n",
       "      <td>1</td>\n",
       "    </tr>\n",
       "    <tr>\n",
       "      <th>40</th>\n",
       "      <td>0</td>\n",
       "    </tr>\n",
       "    <tr>\n",
       "      <th>41</th>\n",
       "      <td>0</td>\n",
       "    </tr>\n",
       "    <tr>\n",
       "      <th>43</th>\n",
       "      <td>1</td>\n",
       "    </tr>\n",
       "    <tr>\n",
       "      <th>49</th>\n",
       "      <td>0</td>\n",
       "    </tr>\n",
       "    <tr>\n",
       "      <th>52</th>\n",
       "      <td>1</td>\n",
       "    </tr>\n",
       "    <tr>\n",
       "      <th>53</th>\n",
       "      <td>1</td>\n",
       "    </tr>\n",
       "    <tr>\n",
       "      <th>58</th>\n",
       "      <td>1</td>\n",
       "    </tr>\n",
       "    <tr>\n",
       "      <th>62</th>\n",
       "      <td>0</td>\n",
       "    </tr>\n",
       "    <tr>\n",
       "      <th>73</th>\n",
       "      <td>0</td>\n",
       "    </tr>\n",
       "    <tr>\n",
       "      <th>86</th>\n",
       "      <td>0</td>\n",
       "    </tr>\n",
       "    <tr>\n",
       "      <th>92</th>\n",
       "      <td>0</td>\n",
       "    </tr>\n",
       "    <tr>\n",
       "      <th>93</th>\n",
       "      <td>0</td>\n",
       "    </tr>\n",
       "    <tr>\n",
       "      <th>99</th>\n",
       "      <td>0</td>\n",
       "    </tr>\n",
       "    <tr>\n",
       "      <th>111</th>\n",
       "      <td>0</td>\n",
       "    </tr>\n",
       "    <tr>\n",
       "      <th>113</th>\n",
       "      <td>0</td>\n",
       "    </tr>\n",
       "    <tr>\n",
       "      <th>117</th>\n",
       "      <td>0</td>\n",
       "    </tr>\n",
       "    <tr>\n",
       "      <th>122</th>\n",
       "      <td>0</td>\n",
       "    </tr>\n",
       "    <tr>\n",
       "      <th>125</th>\n",
       "      <td>1</td>\n",
       "    </tr>\n",
       "    <tr>\n",
       "      <th>132</th>\n",
       "      <td>0</td>\n",
       "    </tr>\n",
       "    <tr>\n",
       "      <th>133</th>\n",
       "      <td>1</td>\n",
       "    </tr>\n",
       "    <tr>\n",
       "      <th>137</th>\n",
       "      <td>0</td>\n",
       "    </tr>\n",
       "    <tr>\n",
       "      <th>142</th>\n",
       "      <td>1</td>\n",
       "    </tr>\n",
       "    <tr>\n",
       "      <th>145</th>\n",
       "      <td>0</td>\n",
       "    </tr>\n",
       "    <tr>\n",
       "      <th>151</th>\n",
       "      <td>1</td>\n",
       "    </tr>\n",
       "    <tr>\n",
       "      <th>167</th>\n",
       "      <td>0</td>\n",
       "    </tr>\n",
       "    <tr>\n",
       "      <th>172</th>\n",
       "      <td>1</td>\n",
       "    </tr>\n",
       "    <tr>\n",
       "      <th>175</th>\n",
       "      <td>0</td>\n",
       "    </tr>\n",
       "    <tr>\n",
       "      <th>188</th>\n",
       "      <td>0</td>\n",
       "    </tr>\n",
       "    <tr>\n",
       "      <th>192</th>\n",
       "      <td>1</td>\n",
       "    </tr>\n",
       "  </tbody>\n",
       "</table>\n",
       "</div>"
      ],
      "text/plain": [
       "     Survived\n",
       "0           0\n",
       "1           1\n",
       "3           1\n",
       "9           1\n",
       "10          1\n",
       "13          0\n",
       "18          0\n",
       "25          1\n",
       "34          0\n",
       "35          0\n",
       "39          1\n",
       "40          0\n",
       "41          0\n",
       "43          1\n",
       "49          0\n",
       "52          1\n",
       "53          1\n",
       "58          1\n",
       "62          0\n",
       "73          0\n",
       "86          0\n",
       "92          0\n",
       "93          0\n",
       "99          0\n",
       "111         0\n",
       "113         0\n",
       "117         0\n",
       "122         0\n",
       "125         1\n",
       "132         0\n",
       "133         1\n",
       "137         0\n",
       "142         1\n",
       "145         0\n",
       "151         1\n",
       "167         0\n",
       "172         1\n",
       "175         0\n",
       "188         0\n",
       "192         1"
      ]
     },
     "execution_count": 156,
     "metadata": {},
     "output_type": "execute_result"
    }
   ],
   "source": [
    "dfTitanic[['Survived']].head(40)"
   ]
  },
  {
   "cell_type": "code",
   "execution_count": 158,
   "id": "e9ce9443-389a-4f00-8420-2fb8ed8ba341",
   "metadata": {},
   "outputs": [],
   "source": [
    " #Seleccionar solo las columnas relevantes para el análisis\n",
    "dfTitanic = dfTitanic[['Survived', 'Pclass', 'Sex', 'Age', 'SibSp', 'Parch', 'Fare', 'Embarked']]"
   ]
  },
  {
   "cell_type": "markdown",
   "id": "4028a758-5968-47eb-a6d9-e619983227a3",
   "metadata": {},
   "source": [
    "<h3>4. Dividir el dataset en Train y Test para evaluar correctamente el modelo</h3>"
   ]
  },
  {
   "cell_type": "code",
   "execution_count": 161,
   "id": "b9f2bd8f-7dfb-4074-ba12-c6b9ee59547a",
   "metadata": {},
   "outputs": [],
   "source": [
    "# Se crean variables X y Y para almacenar la información del entrenamiento\n",
    "\n",
    "X = dfTitanic.drop('Survived',axis=1) # Se cargan los datos de train sin los datos de la columna Survived \n",
    "Y = dfTitanic['Survived'] # Se cargan los datos de train con los datos de la la columna Survived\n",
    "\n",
    "#La función train_test_split crea una división de un conjunto de datos en dos bloques uno de entrenamiento y otro de prueba (train and test)\n",
    "X_train, X_test, Y_train, Y_test = train_test_split(X, Y, test_size=0.25, stratify=Y, random_state= 0)"
   ]
  },
  {
   "cell_type": "code",
   "execution_count": 163,
   "id": "deb817da-e86d-47ed-b8f4-00b275ba61f6",
   "metadata": {},
   "outputs": [
    {
     "name": "stdout",
     "output_type": "stream",
     "text": [
      "     Pclass  Sex   Age  SibSp  Parch     Fare  Embarked\n",
      "348       3    1   3.0      1      1   15.900         1\n",
      "440       2    0  45.0      1      1   26.250         1\n",
      "546       2    0  19.0      1      0   26.000         1\n",
      "215       1    0  31.0      1      0  113.275         0\n",
      "224       1    1  38.0      1      0   90.000         1\n",
      "..      ...  ...   ...    ...    ...      ...       ...\n",
      "754       2    0  48.0      1      2   65.000         1\n",
      "40        3    0  40.0      1      0    9.475         1\n",
      "230       1    0  35.0      1      0   83.475         1\n",
      "781       1    0  17.0      1      0   57.000         1\n",
      "518       2    0  36.0      1      0   26.000         1\n",
      "\n",
      "[137 rows x 7 columns]\n"
     ]
    }
   ],
   "source": [
    "print (X_train)"
   ]
  },
  {
   "cell_type": "code",
   "execution_count": 165,
   "id": "cd8303f2-cafb-458d-bae4-d0ac36d582e4",
   "metadata": {},
   "outputs": [
    {
     "name": "stdout",
     "output_type": "stream",
     "text": [
      "348    1\n",
      "440    1\n",
      "546    1\n",
      "215    1\n",
      "224    1\n",
      "      ..\n",
      "754    1\n",
      "40     0\n",
      "230    1\n",
      "781    1\n",
      "518    1\n",
      "Name: Survived, Length: 137, dtype: int64\n"
     ]
    }
   ],
   "source": [
    "print (Y_train)"
   ]
  },
  {
   "cell_type": "markdown",
   "id": "aa6770da-3c95-4180-9750-d80340af4c52",
   "metadata": {},
   "source": [
    "<h3>5. Entrenar el modelo configurando los diferentes hiperparámetros.</h3>"
   ]
  },
  {
   "cell_type": "code",
   "execution_count": 168,
   "id": "756902de-1685-4dbf-aedb-fc2d95dd5c45",
   "metadata": {},
   "outputs": [],
   "source": [
    "# Construir el modelo de regresión logística \n",
    "\n",
    "modelo_regresion = LogisticRegression(solver = \"liblinear\") # liblinear es una libreria para resolver problemas lineales de clasificación y regresión\n",
    "modelo_regresion.fit (X_train , Y_train)   \n",
    "\n",
    "# Crea el modelo de predicción\n",
    "Prediccion = modelo_regresion.predict(X_test) # la función predict predice los valores a partir del conjunto de datos de validació"
   ]
  },
  {
   "cell_type": "code",
   "execution_count": 170,
   "id": "01cf1dd9-235e-4c68-add3-6cec436f4107",
   "metadata": {},
   "outputs": [
    {
     "name": "stdout",
     "output_type": "stream",
     "text": [
      "[1 0 1 0 0 0 1 1 0 0 0 1 1 0 1 0 1 1 1 1 0 1 1 1 0 0 0 0 1 1 0 0 1 1 1 1 0\n",
      " 0 1 1 0 0 0 0 1 1]\n"
     ]
    }
   ],
   "source": [
    "print (Prediccion)"
   ]
  },
  {
   "cell_type": "markdown",
   "id": "1cf6f4ed-3d49-49b0-8480-be749826fc15",
   "metadata": {},
   "source": [
    "<h3>6. Evaluar el desempeño del modelo en el conjunto de Test con métricas como precisión, recall, F1-score, etc</h3>"
   ]
  },
  {
   "cell_type": "code",
   "execution_count": 173,
   "id": "dc599be6-0996-4ace-9f50-45d5b1a8a54f",
   "metadata": {},
   "outputs": [
    {
     "name": "stdout",
     "output_type": "stream",
     "text": [
      "Accuracy: 0.7391304347826086\n",
      "Classification Report:\n",
      "               precision    recall  f1-score   support\n",
      "\n",
      "           0       0.73      0.73      0.73        22\n",
      "           1       0.75      0.75      0.75        24\n",
      "\n",
      "    accuracy                           0.74        46\n",
      "   macro avg       0.74      0.74      0.74        46\n",
      "weighted avg       0.74      0.74      0.74        46\n",
      "\n",
      "Confusion Matrix:\n",
      " [[16  6]\n",
      " [ 6 18]]\n"
     ]
    }
   ],
   "source": [
    "prediccion = modelo_regresion.predict(X_test)\n",
    "\n",
    "print(\"Accuracy:\", accuracy_score(Y_test, prediccion))\n",
    "print(\"Classification Report:\\n\", classification_report(Y_test, prediccion))\n",
    "print(\"Confusion Matrix:\\n\", confusion_matrix(Y_test, prediccion))"
   ]
  },
  {
   "cell_type": "markdown",
   "id": "151c781d-541f-419d-b494-4bee66a9fd71",
   "metadata": {},
   "source": [
    "<h3>7. Realizar las diferentes gráficas que permitan visualizar los resultados del modelo.</h3>"
   ]
  },
  {
   "cell_type": "code",
   "execution_count": 176,
   "id": "dcb5e621-b720-4300-b237-66a1a9cc09b9",
   "metadata": {},
   "outputs": [
    {
     "data": {
      "text/plain": [
       "<sklearn.metrics._plot.confusion_matrix.ConfusionMatrixDisplay at 0x2c02b89bfe0>"
      ]
     },
     "execution_count": 176,
     "metadata": {},
     "output_type": "execute_result"
    },
    {
     "data": {
      "image/png": "[encoded data removed]",
      "text/plain": [
       "<Figure size 640x480 with 2 Axes>"
      ]
     },
     "metadata": {},
     "output_type": "display_data"
    }
   ],
   "source": [
    "#Matrix de Confusión del modelo\n",
    "\n",
    "cm=confusion_matrix(Y_test,Prediccion)\n",
    "disp=metrics.ConfusionMatrixDisplay(confusion_matrix=cm)\n",
    "disp.plot()"
   ]
  },
  {
   "cell_type": "code",
   "execution_count": 177,
   "id": "a18909b4-7e53-4b8a-9c63-4399e442e75c",
   "metadata": {},
   "outputs": [
    {
     "data": {
      "image/png": "[encoded data removed]",
      "text/plain": [
       "<Figure size 640x480 with 1 Axes>"
      ]
     },
     "metadata": {},
     "output_type": "display_data"
    }
   ],
   "source": [
    "# Curva de precisón del modelo\n",
    "\n",
    "from sklearn.metrics import RocCurveDisplay\n",
    "RocCurveDisplay.from_predictions(Y_test, Prediccion)\n",
    "plt.show()"
   ]
  },
  {
   "cell_type": "markdown",
   "id": "9b61386f-b283-4615-a653-6cddb30e971f",
   "metadata": {},
   "source": [
    "<h3>8. Interpretar, analizar y documentar los resultados obtenidos.</h3>\n"
   ]
  },
  {
   "cell_type": "markdown",
   "id": "c61781e9-8b2f-43a6-9a78-5b71a06c348d",
   "metadata": {},
   "source": [
    "<h5>Del desempeño del modelo puedo describir:</h5>"
   ]
  },
  {
   "cell_type": "markdown",
   "id": "088a2227-eec0-497a-a9a9-02642a3c442f",
   "metadata": {},
   "source": [
    "**Precision:** Mide la cantidad de predicciones correctas dentro de las predicciones positivas realizadas por el modelo. En este caso, la precisión del 73% para la clase 0 (no sobrevivientes) indica que el 73% de las veces que el modelo predijo que una persona no sobrevivió, realmente no sobrevivió. Para la clase 1 (sobrevivientes), la precisión del 75% significa que, todas las intancias que el modelo identifico como sobrevivientes,  el 75% fueron clasificadas correctamente. "
   ]
  },
  {
   "cell_type": "markdown",
   "id": "d8622f32-3339-4377-88e9-c434a38a3c1f",
   "metadata": {},
   "source": [
    "**El Recall:** También conocido como sensibilidad, es una medida de qué tan bien el modelo detecta o recupera las muestras positivas,  la tasa de verdaderos positivos, mide que tan bien el modelo identifica correctamente las instancias positivas reales en relacion con el total en el conjunto de datos. Para la clase survived, el Recall es del 75%, lo que significa que el modelo logro identificar correctamente al 75% de los sobrevivientes en los datos analizados. "
   ]
  },
  {
   "cell_type": "markdown",
   "id": "0a54174a-6a78-4d6a-b8ad-66518fa6ec11",
   "metadata": {},
   "source": [
    "**F1-Score:** Es una metrica que combina precision y recall en un unico valor, proporciona una vision equilibrada de desempeño del modelo. Para la clase 0 (no sobrevivientes), un recall del 73% indica que las personas que realmente no sobrevivieron fueron correctamente identificadas por el modelo como no sobrevivientes. En el caso de Survived, el F1 Score alcanza 75%, lo que demuestra un equilibrio adecuado entre precision y recall. Esto evidencia la capacidad del modelo para identficar y clasificar a los sobrevivientes de manera presica y exhaustiva. "
   ]
  },
  {
   "cell_type": "markdown",
   "id": "4d13dded-acd1-4f09-b7da-69b0cdd0580b",
   "metadata": {},
   "source": [
    "**Support:** Se refiere al numero de ejemplos reales disponibles para cada categoria en el conjunto de datos. Para la clase Survived, el soporte es de 24, lo que indica que el conjunto de datos del Titanic contiene 24 registros de personas que sobreviveron. "
   ]
  },
  {
   "cell_type": "markdown",
   "id": "f13c71c3-baa6-47a5-ba45-8a6ab921bc20",
   "metadata": {},
   "source": [
    "**Exactitud (Accuracy):** Es una medida de qué tan bien el modelo clasifica correctamente todas las muestras. Con una exactitud del 73,91%, podemos decir que predice correctamente el 74% de los casos totales. El desempeño es similar en ambas clases de acuerdo a los valores de precision, recall, F1-Score son similares para ambas clases, lo   que indica que el modelo esta generalizando bien a ambas. Aunque el rendimiento general es bueno, siempre hay margen para mejorar,  sin embargo, un analisis mas profundo podria revelar areas de mejora y ayudar a optimizar el modelo para un mejor desempeño. "
   ]
  },
  {
   "cell_type": "markdown",
   "id": "9e82cb4c-0712-45c0-aff7-45ec3958ab48",
   "metadata": {},
   "source": [
    "**A partir de la Matriz de Confusión podemos deducir:**\n",
    "\n",
    "• **Verdaderos negativos:** Indican la cantidad de observaciones que el clasificador identificó correctamente como falsas, sumando un total de 16 casos.\n",
    "\n",
    "• **Verdaderos positivos:** Se refieren a la cantidad de observaciones que el clasificador identificó acertadamente como verdaderas, sumando un total de 18 casos correctamente reconocidos.\n",
    "\n",
    "• **Falsos positivos:** Representan la cantidad de observaciones que el clasificador identificó erróneamente como verdaderas cuando en realidad eran falsas, con un total de 6 errores.\n",
    "\n",
    "• **Falsos negativos:** Indican cuántas observaciones el clasificador identificó incorrectamente como falsas cuando en realidad eran verdaderas, acumulando un total de 6 casos mal clasificados."
   ]
  },
  {
   "cell_type": "markdown",
   "id": "e853626b-c78d-4630-9e49-4a36d73e6766",
   "metadata": {},
   "source": [
    "**De la Curva de Precisión del modelo puedo interpretar:**"
   ]
  },
  {
   "cell_type": "markdown",
   "id": "f51ef649-b591-442d-8c94-56bc98a6e17a",
   "metadata": {},
   "source": [
    "**Área bajo la curva(AUC):** El valor del AUC es de 0.74. Este valor indica el grado de separabilidad entre calses positivas y negativas. Cuanto mas cerca este el AUC del 1 , mejor sera la capacidad del clasificador del modelo para distinguir entre ambas clases. Un valor de 0.74 sugiere un rendimiento moderadamente bueno, lo cual señala que el 74% de las predicciones del clasificador son precisas en todos los umbrales de clasificación."
   ]
  },
  {
   "cell_type": "markdown",
   "id": "180c5a40-9ea2-4c97-8fee-50f5e33b6315",
   "metadata": {},
   "source": [
    " En este caso, se podría concluir que es aceptable a nivel general, se  debe optimizar mejor su rendimiento o ajustes de hiperparametros. Sería beneficioso investigar otras métricas y hacer modificaciones en el modelo o en los datos cuando sea necesario para mejorar aún más su rendimiento. Los falsos positivos aun mestra confusion en ambas categorias. Reducirlos mejoraria aun mas su rendimiento. Recall un valor de 75% indica que aun hay un 25% de supervivientes que el modelo no esta  identificando correctamente. Esto podria ser un problema si es crucial identificar a los no sebrevivientes y los que son sobrevevientes. En resumen, el modelo tiene un desempeño moderado, pero podría ser más efectivo a través de ajustes adicionales y la exploración de nuevas métricas para potenciar su habilidad de clasificación y reducir los errores."
   ]
  },
  {
   "cell_type": "markdown",
   "id": "00ef3383-2fa7-401a-8fe2-12a49d6c21d2",
   "metadata": {},
   "source": []
  },
  {
   "cell_type": "code",
   "execution_count": null,
   "id": "90dcba38-bd61-4660-8cf9-4a12f1284f82",
   "metadata": {},
   "outputs": [],
   "source": []
  }
 ],
 "metadata": {
  "kernelspec": {
   "display_name": "Python 3 (ipykernel)",
   "language": "python",
   "name": "python3"
  },
  "language_info": {
   "codemirror_mode": {
    "name": "ipython",
    "version": 3
   },
   "file_extension": ".py",
   "mimetype": "text/x-python",
   "name": "python",
   "nbconvert_exporter": "python",
   "pygments_lexer": "ipython3",
   "version": "3.12.4"
  }
 },
 "nbformat": 4,
 "nbformat_minor": 5
}
